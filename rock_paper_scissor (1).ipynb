{
  "cells": [
    {
      "cell_type": "code",
      "execution_count": null,
      "metadata": {
        "colab": {
          "background_save": true,
          "base_uri": "https://localhost:8080/"
        },
        "id": "8iUmpQb7Jeby",
        "outputId": "03ac4b8f-2c54-46e7-858a-2b4169143161"
      },
      "outputs": [
        {
          "name": "stdout",
          "output_type": "stream",
          "text": [
            "Tie!\n",
            "You win! Scissors cut Paper\n",
            "Tie!\n",
            "Tie!\n",
            "Tie!\n",
            "You lose! Paper covers Rock\n"
          ]
        }
      ],
      "source": [
        "import random\n",
        "choices = [\"Rock\", \"Paper\", \"Scissors\"]\n",
        "computer = random.choice(choices)\n",
        "player = False\n",
        "cpu_score = 0\n",
        "player_score = 0\n",
        "while True:\n",
        "    player = input(\"Rock, Paper or  Scissors?\").capitalize()\n",
        "    ## Conditions of Rock,Paper and Scissors\n",
        "    if player == computer:\n",
        "        print(\"Tie!\")\n",
        "    elif player == \"Rock\":\n",
        "        if computer == \"Paper\":\n",
        "            print(\"You lose!\", computer, \"covers\", player)\n",
        "            cpu_score+=1\n",
        "        else:\n",
        "            print(\"You win!\", player, \"smashes\", computer)\n",
        "            player_score+=1\n",
        "    elif player == \"Paper\":\n",
        "        if computer == \"Scissors\":\n",
        "            print(\"You lose!\", computer, \"cut\", player)\n",
        "            cpu_score+=1\n",
        "        else:\n",
        "            print(\"You win!\", player, \"covers\", computer)\n",
        "            player_score+=1\n",
        "    elif player == \"Scissors\":\n",
        "        if computer == \"Rock\":\n",
        "            print(\"You lose...\", computer, \"smashes\", player)\n",
        "            cpu_score+=1\n",
        "        else:\n",
        "            print(\"You win!\", player, \"cut\", computer)\n",
        "            player_score+=1\n",
        "    elif player=='End':\n",
        "        print(\"Final Scores:\")\n",
        "        print(f\"CPU:{cpu_score}\")\n",
        "        print(f\"Plaer:{player_score}\")\n",
        "        break"
      ]
    }
  ],
  "metadata": {
    "colab": {
      "toc_visible": true,
      "provenance": []
    },
    "kernelspec": {
      "display_name": "Python 3",
      "name": "python3"
    },
    "language_info": {
      "name": "python"
    }
  },
  "nbformat": 4,
  "nbformat_minor": 0
}